{
 "cells": [
  {
   "cell_type": "markdown",
   "id": "8f88dc30",
   "metadata": {},
   "source": [
    "# Factoriel"
   ]
  },
  {
   "cell_type": "code",
   "execution_count": 3,
   "id": "55a706d2",
   "metadata": {},
   "outputs": [
    {
     "name": "stdout",
     "output_type": "stream",
     "text": [
      "Please enter number:5\n",
      " factoriel of 5 is 120\n"
     ]
    }
   ],
   "source": [
    "def factoriel(n):\n",
    "    f=1\n",
    "    for i in range(1,n+1):\n",
    "        f=f*i\n",
    "    return f\n",
    "number=int(input(\"Please enter number:\"))\n",
    "factoriel=factoriel(number)\n",
    "print(f' factoriel of {number} is {factoriel}')"
   ]
  },
  {
   "cell_type": "markdown",
   "id": "acccef3c",
   "metadata": {},
   "source": [
    "# sort companies"
   ]
  },
  {
   "cell_type": "code",
   "execution_count": 1,
   "id": "dd4f7a6c",
   "metadata": {},
   "outputs": [
    {
     "name": "stdout",
     "output_type": "stream",
     "text": [
      "[('Microsoft', 2020, 220.1), ('Apple', 2020, 180.9), ('Google', 2020, 150.21)]\n"
     ]
    }
   ],
   "source": [
    "companies=[('Google',2020,150.21),('Microsoft',2020,220.1),('Apple',2020,180.90)]\n",
    "def sorti(company):\n",
    "    return company[2]\n",
    "companies.sort(key=sorti, reverse=True)\n",
    "print(companies)\n",
    "    "
   ]
  },
  {
   "cell_type": "markdown",
   "id": "fbbb4bbc",
   "metadata": {},
   "source": [
    "# tashkhise adad aval"
   ]
  },
  {
   "cell_type": "code",
   "execution_count": null,
   "id": "6aaf2609",
   "metadata": {},
   "outputs": [],
   "source": [
    "list1=[]\n",
    "number = int(input('please input your number: '))\n",
    "counter = 0\n",
    "for i in range(1, number+1):\n",
    "    if number%i == 0:\n",
    "        counter+=1\n",
    "        list1.append(number)\n",
    "if counter==2:\n",
    "    print('your number is prime')\n",
    "    list1.append(number)\n",
    "else:\n",
    "    print('your number is not prime')"
   ]
  },
  {
   "cell_type": "markdown",
   "id": "d2c2073f",
   "metadata": {},
   "source": [
    "# adad avalha ta n"
   ]
  },
  {
   "cell_type": "code",
   "execution_count": null,
   "id": "1404459b",
   "metadata": {},
   "outputs": [],
   "source": [
    "def isprime(n):\n",
    "    if n == 1:\n",
    "        return False\n",
    "    for x in range(2, n):\n",
    "        if n % x == 0:\n",
    "            return False\n",
    "    else:\n",
    "        return True\n",
    " \n",
    "def primes(n = 1):\n",
    "    while(True):\n",
    "        if isprime(n): yield n\n",
    "        n += 1\n",
    " \n",
    "while True:\n",
    "    try:\n",
    "        usr = int(input('Enter your number : '))\n",
    "        for a in primes():\n",
    "            if a > usr: break\n",
    "            print(a)\n",
    "        break\n",
    "    except ValueError:\n",
    "        print('Oops! Your input is wrong...')"
   ]
  },
  {
   "cell_type": "markdown",
   "id": "e0df9f52",
   "metadata": {},
   "source": [
    "# len numbers"
   ]
  },
  {
   "cell_type": "code",
   "execution_count": 1,
   "id": "3876115e",
   "metadata": {},
   "outputs": [
    {
     "name": "stdout",
     "output_type": "stream",
     "text": [
      "Please enter the number:12343\n",
      "5\n"
     ]
    }
   ],
   "source": [
    "number=int(input(\"Please enter the number:\"))\n",
    "a=str(number)\n",
    "print(len(a))"
   ]
  },
  {
   "cell_type": "markdown",
   "id": "4e1bdfc2",
   "metadata": {},
   "source": [
    "# Multiple and or"
   ]
  },
  {
   "cell_type": "code",
   "execution_count": 14,
   "id": "21f774e0",
   "metadata": {},
   "outputs": [
    {
     "name": "stdout",
     "output_type": "stream",
     "text": [
      "please enter number:90\n",
      "False\n"
     ]
    }
   ],
   "source": [
    "num1=int(input(\"please enter number:\"))\n",
    "\n",
    "if num1==10 or num1==20 or num1==30 or num1==40 or num1==50:\n",
    "    print(\"Tehran\")\n",
    "else:\n",
    "    print(\"False\")"
   ]
  },
  {
   "cell_type": "markdown",
   "id": "810129b0",
   "metadata": {},
   "source": [
    "# jadval zarb"
   ]
  },
  {
   "cell_type": "code",
   "execution_count": 9,
   "id": "e88ac55d",
   "metadata": {},
   "outputs": [
    {
     "name": "stdout",
     "output_type": "stream",
     "text": [
      "1 2 3 4 5 6 7 8 9 \n",
      "2 4 6 8 10 12 14 16 18 \n",
      "3 6 9 12 15 18 21 24 27 \n",
      "4 8 12 16 20 24 28 32 36 \n",
      "5 10 15 20 25 30 35 40 45 \n",
      "6 12 18 24 30 36 42 48 54 \n",
      "7 14 21 28 35 42 49 56 63 \n",
      "8 16 24 32 40 48 56 64 72 \n",
      "9 18 27 36 45 54 63 72 81 \n"
     ]
    }
   ],
   "source": [
    "for i in range(1,10):\n",
    "    for j in range(1,10):\n",
    " \n",
    "         print(i*j,end =\" \")\n",
    "    print()"
   ]
  },
  {
   "cell_type": "markdown",
   "id": "7e289633",
   "metadata": {},
   "source": [
    "# sang kaghaz gheichi"
   ]
  },
  {
   "cell_type": "code",
   "execution_count": 2,
   "id": "e50c246a",
   "metadata": {},
   "outputs": [
    {
     "name": "stdout",
     "output_type": "stream",
     "text": [
      "player1: lotfan az beine mavarede(sang, kaghaz, gheichi) entekhab konid:sang\n",
      "player2: lotfan az beine mavarede(sang, kaghaz, gheichi) entekhab konid:gheichi\n",
      "player1: lotfan az beine mavarede(sang, kaghaz, gheichi) entekhab konid:kaghaz\n",
      "player2: lotfan az beine mavarede(sang, kaghaz, gheichi) entekhab konid:sang\n",
      "player1: lotfan az beine mavarede(sang, kaghaz, gheichi) entekhab konid:sang\n",
      "player2: lotfan az beine mavarede(sang, kaghaz, gheichi) entekhab konid:kaghaz\n",
      "player1: lotfan az beine mavarede(sang, kaghaz, gheichi) entekhab konid:kaghaz\n",
      "player2: lotfan az beine mavarede(sang, kaghaz, gheichi) entekhab konid:gheichi\n",
      "player1: lotfan az beine mavarede(sang, kaghaz, gheichi) entekhab konid:gheichi\n",
      "player2: lotfan az beine mavarede(sang, kaghaz, gheichi) entekhab konid:gheichi\n",
      "player1: lotfan az beine mavarede(sang, kaghaz, gheichi) entekhab konid:kaghaz\n",
      "player2: lotfan az beine mavarede(sang, kaghaz, gheichi) entekhab konid:gheichi\n",
      "emtiaze player1 2 mibashad va emtiaze player2 3 mibashad pas player2 barande ast\n"
     ]
    }
   ],
   "source": [
    "# halat ha:\n",
    "# 1) har 2 sang 2)har 2 gheichi 3) har 2 kaghaz\n",
    "# 4) sang kaghaz 5) sang gheichi \n",
    "# 6) kaghaz sang 7)  kaghaz gheichi\n",
    "# 8) gheichi sang 9) gheichi kaghaz\n",
    " \n",
    "counter1=0\n",
    "counter2=0\n",
    "\n",
    "while (counter1<3 and counter2<3):\n",
    "    player1=input(\"player1: lotfan az beine mavarede(sang, kaghaz, gheichi) entekhab konid:\")\n",
    "    player2=input(\"player2: lotfan az beine mavarede(sang, kaghaz, gheichi) entekhab konid:\")\n",
    "    if player1==\"sang\" and player2==\"kaghaz\":\n",
    "        counter2=counter2+1\n",
    "        \n",
    "    elif player1==\"sang\" and player2==\"gheichi\":\n",
    "        counter1=counter1+1\n",
    "\n",
    "        \n",
    "    elif player1==\"kaghaz\" and player2==\"gheichi\":\n",
    "        counter2=counter2+1\n",
    "\n",
    "        \n",
    "    elif player1==\"kaghaz\" and player2==\"sang\":\n",
    "        counter1=counter1+1\n",
    "\n",
    "        \n",
    "    elif player1==\"gheichi\" and player2==\"kaghaz\":\n",
    "        counter1=counter1+1\n",
    "\n",
    "        \n",
    "    elif player1==\"gheichi\" and player2==\"sang\":\n",
    "        counter2=counter2+1\n",
    "\n",
    "    \n",
    "if counter1<counter2:\n",
    "    print(f\"emtiaze player1 {counter1} mibashad va emtiaze player2 {counter2} mibashad pas player2 barande ast\")\n",
    "else:\n",
    "    print(f\"emtiaze player1 {counter1} mibashad va emtiaze player2 {counter2} mibashad pas player1 barande ast\")\n"
   ]
  },
  {
   "cell_type": "markdown",
   "id": "bcdf5c83",
   "metadata": {},
   "source": [
    "# guess the number"
   ]
  },
  {
   "cell_type": "code",
   "execution_count": 1,
   "id": "a79ba571",
   "metadata": {},
   "outputs": [
    {
     "name": "stdout",
     "output_type": "stream",
     "text": [
      "Enter the number: 90\n",
      "Wrong, guess the lower number \n",
      "Enter the number: 50\n",
      "Wrong, guess the lower number \n",
      "Enter the number: 10\n",
      "Wrong, guess the higher number \n",
      "Enter the number: 30\n",
      "Wrong, guess the higher number \n",
      "Enter the number: 40\n",
      "Wrong, guess the lower number \n",
      "Enter the number: 35\n",
      "Wrong, guess the higher number \n",
      "Enter the number: 27\n",
      "Wrong, guess the higher number \n",
      "Enter the number: 37\n",
      "Wrong, guess the higher number \n",
      "Enter the number: 28\n",
      "Wrong, guess the higher number \n",
      "Enter the number: 39\n",
      "correct, good job\n"
     ]
    }
   ],
   "source": [
    "import numpy as np\n",
    "random=np.random.randint(1,100)\n",
    "flat=1\n",
    "while flat==1:\n",
    "    num=int(input(\"Enter the number: \"))\n",
    "#print(\"the random number is \",random)\n",
    "    if num>random:\n",
    "        print(\"Wrong, guess the lower number \")\n",
    "    elif  num<random:\n",
    "        print(\"Wrong, guess the higher number \")\n",
    "    else:\n",
    "        flat=0\n",
    "print(\"correct, good job\")"
   ]
  },
  {
   "cell_type": "code",
   "execution_count": null,
   "id": "8423e487",
   "metadata": {},
   "outputs": [],
   "source": []
  },
  {
   "cell_type": "code",
   "execution_count": 11,
   "id": "bc3128ec",
   "metadata": {},
   "outputs": [
    {
     "name": "stdout",
     "output_type": "stream",
     "text": [
      "Please enter a number that you want:6\n",
      "* \n",
      "* * \n",
      "* * * \n",
      "* * * * \n",
      "* * * * * \n",
      "* * * * * * \n"
     ]
    }
   ],
   "source": [
    "number=int(input(\"Please enter a number that you want:\"))\n",
    "for i in range(1,number+1):\n",
    "    for j in range(i):\n",
    "        print(\"*\", end=\" \")\n",
    "    print()"
   ]
  },
  {
   "cell_type": "markdown",
   "id": "c42004bc",
   "metadata": {},
   "source": [
    "# Calculator"
   ]
  },
  {
   "cell_type": "code",
   "execution_count": null,
   "id": "86ff99d9",
   "metadata": {},
   "outputs": [],
   "source": [
    "# Simple Calculator\n",
    "\n",
    "def add(x, y):\n",
    "    return x + y\n",
    "\n",
    "def subtract(x, y):\n",
    "    return x - y\n",
    "\n",
    "def multiply(x, y):\n",
    "    return x * y\n",
    "\n",
    "def divide(x, y):\n",
    "    if y != 0:\n",
    "        return x / y\n",
    "    else:\n",
    "        return \"Cannot divide by zero.\"\n",
    "\n",
    "# User input\n",
    "num1 = float(input(\"Enter the first number: \"))\n",
    "operator = input(\"Enter the operator (+, -, *, /): \")\n",
    "num2 = float(input(\"Enter the second number: \"))\n",
    "\n",
    "# Perform calculation based on operator\n",
    "if operator == '+':\n",
    "    result = add(num1, num2)\n",
    "elif operator == '-':\n",
    "    result = subtract(num1, num2)\n",
    "elif operator == '*':\n",
    "    result = multiply(num1, num2)\n",
    "elif operator == '/':\n",
    "    result = divide(num1, num2)\n",
    "else:\n",
    "    result = \"Invalid operator.\"\n",
    "\n",
    "# Display the result\n",
    "print(f\"Result: {result}\")\n"
   ]
  },
  {
   "cell_type": "code",
   "execution_count": 1,
   "id": "a381c789",
   "metadata": {},
   "outputs": [],
   "source": [
    "import turtle\n",
    "\n",
    "# Square\n",
    "for _ in range(4):\n",
    "    turtle.forward(100)\n",
    "    turtle.right(90)\n",
    "\n",
    "# Triangle\n",
    "turtle.penup()\n",
    "turtle.goto(150, 0)\n",
    "turtle.pendown()\n",
    "for _ in range(3):\n",
    "    turtle.forward(100)\n",
    "    turtle.right(120)\n",
    "\n",
    "turtle.done()"
   ]
  },
  {
   "cell_type": "code",
   "execution_count": 2,
   "id": "4f516ab6",
   "metadata": {},
   "outputs": [
    {
     "name": "stdout",
     "output_type": "stream",
     "text": [
      "1 \n",
      "1 2 \n",
      "1 2 3 \n",
      "1 2 3 4 \n",
      "1 2 3 4 5 \n"
     ]
    }
   ],
   "source": [
    "rows = 5\n",
    "\n",
    "for i in range(1, rows + 1):\n",
    "    for j in range(1, i + 1):\n",
    "        print(j, end=\" \")\n",
    "    print()"
   ]
  },
  {
   "cell_type": "code",
   "execution_count": null,
   "id": "f6e8d089",
   "metadata": {},
   "outputs": [],
   "source": []
  }
 ],
 "metadata": {
  "kernelspec": {
   "display_name": "Python 3 (ipykernel)",
   "language": "python",
   "name": "python3"
  },
  "language_info": {
   "codemirror_mode": {
    "name": "ipython",
    "version": 3
   },
   "file_extension": ".py",
   "mimetype": "text/x-python",
   "name": "python",
   "nbconvert_exporter": "python",
   "pygments_lexer": "ipython3",
   "version": "3.11.5"
  }
 },
 "nbformat": 4,
 "nbformat_minor": 5
}
