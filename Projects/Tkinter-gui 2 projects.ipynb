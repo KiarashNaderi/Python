{
 "cells": [
  {
   "cell_type": "code",
   "execution_count": 1,
   "id": "2f99b796-b615-43bd-90a2-27fe563cad13",
   "metadata": {},
   "outputs": [
    {
     "name": "stdout",
     "output_type": "stream",
     "text": [
      "Requirement already satisfied: pyttsx3 in c:\\users\\asus\\anaconda3\\lib\\site-packages (2.90)\n",
      "Requirement already satisfied: comtypes in c:\\users\\asus\\anaconda3\\lib\\site-packages (from pyttsx3) (1.3.0)\n",
      "Requirement already satisfied: pypiwin32 in c:\\users\\asus\\anaconda3\\lib\\site-packages (from pyttsx3) (223)\n",
      "Requirement already satisfied: pywin32 in c:\\users\\asus\\anaconda3\\lib\\site-packages (from pyttsx3) (305.1)\n",
      "Note: you may need to restart the kernel to use updated packages.\n"
     ]
    }
   ],
   "source": [
    " pip install pyttsx3"
   ]
  },
  {
   "cell_type": "code",
   "execution_count": 5,
   "id": "8a530330-bf52-4881-be98-6b1a2f970563",
   "metadata": {},
   "outputs": [],
   "source": [
    "import pyttsx3 as pyt\n",
    "tts=pyt.init()\n",
    "tts.say(\"I love python\")\n",
    "tts.runAndWait()"
   ]
  },
  {
   "cell_type": "markdown",
   "id": "8474f27d-0ca9-4d31-9911-da27d13c6bc6",
   "metadata": {},
   "source": [
    "#open kardan"
   ]
  },
  {
   "cell_type": "code",
   "execution_count": 1,
   "id": "35db305b-cbe0-4bd2-ac1e-0f3e646ad31f",
   "metadata": {},
   "outputs": [],
   "source": [
    "from tkinter import *\n",
    "from tkinter.filedialog import askopenfile"
   ]
  },
  {
   "cell_type": "code",
   "execution_count": 5,
   "id": "2046be4b-ffeb-438b-8c82-eb2256fa7e05",
   "metadata": {},
   "outputs": [],
   "source": [
    "window=Tk()\n",
    "window.title(\"open file\")\n",
    "window.geometry(\"500x500\")\n",
    "window.resizable(False,False)\n",
    "\n",
    "def open_file():\n",
    "    file=askopenfile(mode=\"r\",filetypes=[(\"python files\",'*.py')])\n",
    "    if file is not None:\n",
    "        content=file.read()\n",
    "        print(conntent)\n",
    "                                          \n",
    "btn1=Button(window,text=\"open\",command=open_file)\n",
    "btn1.pack(side=TOP,pady=20,padx=30)\n",
    "\n",
    "window.mainloop()"
   ]
  },
  {
   "cell_type": "code",
   "execution_count": null,
   "id": "fa5ef9a6-7b54-41a0-8330-ba696f034f32",
   "metadata": {},
   "outputs": [],
   "source": [
    "#saveas"
   ]
  },
  {
   "cell_type": "code",
   "execution_count": 7,
   "id": "94019aa8-4810-4520-b157-d02ff9faa622",
   "metadata": {},
   "outputs": [],
   "source": [
    "from tkinter import *\n",
    "from tkinter.filedialog import asksaveasfile"
   ]
  },
  {
   "cell_type": "code",
   "execution_count": 10,
   "id": "c6e381cc-1549-4ad5-991c-8f05f9257418",
   "metadata": {},
   "outputs": [],
   "source": [
    "window=Tk()\n",
    "window.title(\"saveas\")\n",
    "window.geometry(\"500x500\")\n",
    "window.resizable(False,False)\n",
    "\n",
    "\n",
    "def saveas():\n",
    "    files=[(\"All files\",\"*.*\"),(\"python files\",\"*.py\"),(\"text documents\",\"*.txt\")]\n",
    "    file=askopenfile(filetypes=files)\n",
    "    \n",
    "btn1=Button(window,text=\"save as\",command=lambda:saveas())\n",
    "btn1.pack(side=RIGHT,padx=30)\n",
    "window.mainloop()"
   ]
  },
  {
   "cell_type": "code",
   "execution_count": null,
   "id": "8895fd3a-7acd-42f3-9b80-44790a062c22",
   "metadata": {},
   "outputs": [],
   "source": [
    "#sang kaghaz gheichi"
   ]
  },
  {
   "cell_type": "markdown",
   "id": "ce3227cd-da5a-4fd9-a697-526e753bb1b8",
   "metadata": {},
   "source": [
    "barname rizi:\n",
    "\n",
    "1) main part==> anjam shod\n",
    "2) frame bandi==> anjam shode\n",
    "3) buttons==> anjam shod\n",
    "4) functions==> tabea==> anjam shod\n",
    "5) labels==> "
   ]
  },
  {
   "cell_type": "code",
   "execution_count": 11,
   "id": "b1fb1c6c-e5d8-4d79-8ec2-cdb5ab3cfe2b",
   "metadata": {},
   "outputs": [],
   "source": [
    "from tkinter import *\n",
    "import tkinter.messagebox\n",
    "import random"
   ]
  },
  {
   "cell_type": "code",
   "execution_count": 26,
   "id": "ec5caa4d-2867-45c5-a189-5e61390b4424",
   "metadata": {},
   "outputs": [],
   "source": [
    "# ----------------------------main part-----------------------------\n",
    "window=Tk()\n",
    "window.title(\"game\")\n",
    "window.geometry(\"300x320\")\n",
    "window.resizable(False,False)\n",
    "color=\"#6f0480\"\n",
    "window.configure(bg=color)\n",
    "#----------------------------frame bandi------------------------------\n",
    "top_first=Frame(window,width_=400,height=50,bg=color)\n",
    "top_first.pack(side=\"top\")\n",
    "\n",
    "top_second=Frame(window,width_=400,height=50,bg=color)\n",
    "top_second.pack(side=\"top\")\n",
    "\n",
    "top_third=Frame(window,width_=400,height=50,bg=color)\n",
    "top_third.pack(side=\"top\")\n",
    "\n",
    "top_fourth=Frame(window,width_=400,height=50,bg=color)\n",
    "top_fourth.pack(side=\"top\")\n",
    "\n",
    "top_fifth=Frame(window,width_=400,height=50,bg=color)\n",
    "top_fifth.pack(side=\"top\")\n",
    "\n",
    "top_sixth=Frame(window,width_=400,height=50,bg=color)\n",
    "top_sixth.pack(side=\"top\")\n",
    "\n",
    "top_seventh=Frame(window,width_=400,height=50,bg=color)\n",
    "top_seventh.pack(side=\"top\")\n",
    "\n",
    "top_eighth=Frame(window,width_=400,height=50,bg=color)\n",
    "top_eighth.pack(side=\"top\")\n",
    "#-----------------------------buttons--------------------\n",
    "btn1=Button(top_first,text=\"sang\",width_=30,highlightbackground=color,command=lambda:sang())\n",
    "btn1.pack(side=LEFT,padx=5,pady=5)\n",
    "\n",
    "btn2=Button(top_second,text=\"kaghaz\",width_=30,highlightbackground=color,command=lambda:kaghaz())\n",
    "btn2.pack(side=LEFT,padx=5,pady=5)\n",
    "\n",
    "btn3=Button(top_third,text=\"gheichi\",width_=30,highlightbackground=color,command=lambda:gheichi())\n",
    "btn3.pack(side=LEFT,padx=5,pady=5)\n",
    "\n",
    "btn4=Button(top_fifth,width_=30,highlightbackground=color)\n",
    "btn4.pack(side=LEFT,padx=5,pady=5)\n",
    "\n",
    "btn5=Button(top_seventh,width_=30,highlightbackground=color)\n",
    "btn5.pack(side=LEFT,padx=5,pady=5)\n",
    "\n",
    "btn6=Button(top_eighth,text=\"sazande\",width_=5,highlightbackground=color,command=lambda:sazande())\n",
    "btn6.pack(side=LEFT,padx=5,pady=5)\n",
    "\n",
    "btn7=Button(top_eighth,text=\"delete\",width_=5,highlightbackground=color,command=lambda:clear())\n",
    "btn7.pack(side=LEFT,padx=5,pady=5)\n",
    "#-------------------------------functions------------------\n",
    "def sazande():\n",
    "    tkinter.messagebox.showinfo(\"sazande\",\"Kiarash Naderi va shamim khanom in barname ra neveshte and\")\n",
    "\n",
    "\n",
    "def sang():\n",
    "    a=random.randint(0,2) \n",
    "    if a==0:\n",
    "        btn4['text']=\"sang\"\n",
    "        btn5['text']=\"mosavi\"\n",
    "    elif a==1:\n",
    "        btn4[\"text\"]=\"kaghaz\"\n",
    "        btn5[\"text\"]=\"bakhti\"\n",
    "    elif a==2:\n",
    "        btn4[\"text\"]=\"gheichi\"\n",
    "        btn5[\"text\"]=\"bordi\"\n",
    "\n",
    "def kaghaz():\n",
    "    a=random.randint(0,2) \n",
    "    if a==0:\n",
    "        btn4['text']=\"sang\"\n",
    "        btn5['text']=\"bordi\"\n",
    "    elif a==1:\n",
    "        btn4[\"text\"]=\"kaghaz\"\n",
    "        btn5[\"text\"]=\"mosavi\"\n",
    "    elif a==2:\n",
    "        btn4[\"text\"]=\"gheichi\"\n",
    "        btn5[\"text\"]=\"bakhti\"\n",
    "\n",
    "def gheichi():\n",
    "    a=random.randint(0,2) \n",
    "    if a==0:\n",
    "        btn4['text']=\"sang\"\n",
    "        btn5['text']=\"bakhti\"\n",
    "    elif a==1:\n",
    "        btn4[\"text\"]=\"kaghaz\"\n",
    "        btn5[\"text\"]=\"bordi\"\n",
    "    elif a==2:\n",
    "        btn4[\"text\"]=\"gheichi\"\n",
    "        btn5[\"text\"]=\"mosavi\"\n",
    "\n",
    "def clear():\n",
    "    btn4[\"text\"]=\"\"\n",
    "    btn5[\"text\"]=\"\"\n",
    "#--------------------------labels---------------------\n",
    "lbl1=Label(top_fourth,text=\"harakate computer\",bg=\"yellow\")\n",
    "lbl1.pack(side=LEFT,padx=5,pady=5)\n",
    "\n",
    "lbl2=Label(top_sixth,text=\"Natije bazi\",bg=\"green\")\n",
    "lbl2.pack(side=LEFT,padx=5,pady=5)\n",
    "\n",
    "#-------------------------------running-------------------\n",
    "window.mainloop()"
   ]
  },
  {
   "cell_type": "code",
   "execution_count": null,
   "id": "3593a50e-dce5-4438-b0c2-870f6608b777",
   "metadata": {},
   "outputs": [],
   "source": []
  }
 ],
 "metadata": {
  "kernelspec": {
   "display_name": "Python 3 (ipykernel)",
   "language": "python",
   "name": "python3"
  },
  "language_info": {
   "codemirror_mode": {
    "name": "ipython",
    "version": 3
   },
   "file_extension": ".py",
   "mimetype": "text/x-python",
   "name": "python",
   "nbconvert_exporter": "python",
   "pygments_lexer": "ipython3",
   "version": "3.11.5"
  }
 },
 "nbformat": 4,
 "nbformat_minor": 5
}
